{
 "cells": [
  {
   "cell_type": "markdown",
   "metadata": {},
   "source": [
    "# DDPG解决四轴飞行器悬浮任务"
   ]
  },
  {
   "cell_type": "code",
   "execution_count": 18,
   "metadata": {},
   "outputs": [],
   "source": [
    "import os\n",
    "import pickle\n",
    "import numpy as np\n",
    "\n",
    "import parl\n",
    "from paddle import fluid\n",
    "from parl import layers\n",
    "from parl.core.fluid.plutils import fetch_value, set_value  # PARL的helper functions，帮助加载或保存weights\n",
    "from parl.utils import logger, action_mapping, ReplayMemory  # TODO: check whether tensorboard works in notebook\n",
    "from rlschool import make_env  # RLSchool 创建飞行器环境"
   ]
  },
  {
   "cell_type": "markdown",
   "metadata": {},
   "source": [
    "## 创建飞行器环境"
   ]
  },
  {
   "cell_type": "code",
   "execution_count": 3,
   "metadata": {},
   "outputs": [],
   "source": [
    "env = make_env(\"Quadrotor\", task=\"hovering_control\")\n",
    "env.reset()\n",
    "obs_dim = env.observation_space.shape[0]\n",
    "act_dim = env.action_space.shape[0]"
   ]
  },
  {
   "cell_type": "markdown",
   "metadata": {},
   "source": [
    "## Model"
   ]
  },
  {
   "cell_type": "code",
   "execution_count": 4,
   "metadata": {},
   "outputs": [],
   "source": [
    "class ActorModel(parl.Model):\n",
    "    def __init__(self, act_dim):\n",
    "        hidden_dim_1, hidden_dim_2 = 64, 64\n",
    "        self.fc1 = layers.fc(size=hidden_dim_1, act='tanh')\n",
    "        self.fc2 = layers.fc(size=hidden_dim_2, act='tanh')\n",
    "        self.fc3 = layers.fc(size=act_dim, act='tanh')\n",
    "\n",
    "    def policy(self, obs):\n",
    "        x = self.fc1(obs)\n",
    "        x = self.fc2(x)\n",
    "        return self.fc3(x)"
   ]
  },
  {
   "cell_type": "code",
   "execution_count": 5,
   "metadata": {},
   "outputs": [],
   "source": [
    "class CriticModel(parl.Model):\n",
    "    def __init__(self):\n",
    "        hidden_dim_1, hidden_dim_2 = 64, 64\n",
    "        self.fc1 = layers.fc(size=hidden_dim_1, act='tanh')\n",
    "        self.fc2 = layers.fc(size=hidden_dim_2, act='tanh')\n",
    "        self.fc3 = layers.fc(size=1, act=None)\n",
    "\n",
    "    def value(self, obs, act):\n",
    "        x = self.fc1(obs)\n",
    "        concat = layers.concat([x, act], axis=1)\n",
    "        x = self.fc2(concat)\n",
    "        Q = self.fc3(x)\n",
    "        Q = layers.squeeze(Q, axes=[1])\n",
    "        return Q"
   ]
  },
  {
   "cell_type": "code",
   "execution_count": 6,
   "metadata": {},
   "outputs": [],
   "source": [
    "class QuadrotorModel(parl.Model):\n",
    "    def __init__(self, act_dim):\n",
    "        self.actor_model = ActorModel(act_dim)\n",
    "        self.critic_model = CriticModel()\n",
    "\n",
    "    def policy(self, obs):\n",
    "        return self.actor_model.policy(obs)\n",
    "\n",
    "    def value(self, obs, act):\n",
    "        return self.critic_model.value(obs, act)\n",
    "\n",
    "    def get_actor_params(self):\n",
    "        return self.actor_model.parameters()\n",
    "\n",
    "    def load(self, ckpt, use_gpu=False, actor_only=False):\n",
    "        with open(ckpt, 'rb') as f:\n",
    "            weights_dict = pickle.load(f)\n",
    "\n",
    "        if actor_only:\n",
    "            parameters = self.get_actor_params()\n",
    "        else:\n",
    "            parameters = self.parameters()\n",
    "\n",
    "        for var in parameters:\n",
    "            set_value(var, weights_dict[var], use_gpu)\n",
    "\n",
    "    def save(self, ckpt):\n",
    "        weights_dict = dict()\n",
    "        for var in self.parameters():\n",
    "            weights_dict[var] = fetch_value(var)\n",
    "\n",
    "        with open(ckpt, 'wb') as f:\n",
    "            pickle.dump(weights_dict, f)"
   ]
  },
  {
   "cell_type": "code",
   "execution_count": 7,
   "metadata": {},
   "outputs": [],
   "source": [
    "model = QuadrotorModel(act_dim)"
   ]
  },
  {
   "cell_type": "markdown",
   "metadata": {},
   "source": [
    "## Algorithm"
   ]
  },
  {
   "cell_type": "markdown",
   "metadata": {},
   "source": [
    "设置DDPG超参以及训练设置"
   ]
  },
  {
   "cell_type": "code",
   "execution_count": 8,
   "metadata": {},
   "outputs": [],
   "source": [
    "hparams = {\n",
    "    'gamma': 0.99,\n",
    "    'tau': 0.001,\n",
    "    'actor_lr': 0.0002,\n",
    "    'critic_lr': 0.001,\n",
    "    'memory_size': 1e6,\n",
    "    'reward_scale': 0.01,\n",
    "    'rpm_init_size': 1e4,\n",
    "    'batch_size': 256,\n",
    "    'train_total_steps': 1e6,\n",
    "    'test_every_steps': 1e4\n",
    "}"
   ]
  },
  {
   "cell_type": "code",
   "execution_count": 9,
   "metadata": {},
   "outputs": [],
   "source": [
    "algorithm = parl.algorithms.DDPG(\n",
    "    model,\n",
    "    gamma=hparams['gamma'],\n",
    "    tau=hparams['tau'],\n",
    "    actor_lr=hparams['actor_lr'],\n",
    "    critic_lr=hparams['critic_lr'])"
   ]
  },
  {
   "cell_type": "markdown",
   "metadata": {},
   "source": [
    "## Agent"
   ]
  },
  {
   "cell_type": "code",
   "execution_count": 10,
   "metadata": {},
   "outputs": [],
   "source": [
    "class QuadrotorAgent(parl.Agent):\n",
    "    def __init__(self, algorithm, obs_dim, act_dim=4):\n",
    "        assert isinstance(obs_dim, int)\n",
    "        assert isinstance(act_dim, int)\n",
    "        self.obs_dim = obs_dim\n",
    "        self.act_dim = act_dim\n",
    "        super(QuadrotorAgent, self).__init__(algorithm)\n",
    "\n",
    "        # Attention: In the beginning, sync target model totally.\n",
    "        self.alg.sync_target(decay=0)\n",
    "\n",
    "    def build_program(self):\n",
    "        self.pred_program = fluid.Program()\n",
    "        self.learn_program = fluid.Program()\n",
    "\n",
    "        with fluid.program_guard(self.pred_program):\n",
    "            obs = layers.data(\n",
    "                name='obs', shape=[self.obs_dim], dtype='float32')\n",
    "            self.pred_act = self.alg.predict(obs)\n",
    "\n",
    "        with fluid.program_guard(self.learn_program):\n",
    "            obs = layers.data(\n",
    "                name='obs', shape=[self.obs_dim], dtype='float32')\n",
    "            act = layers.data(\n",
    "                name='act', shape=[self.act_dim], dtype='float32')\n",
    "            reward = layers.data(name='reward', shape=[], dtype='float32')\n",
    "            next_obs = layers.data(\n",
    "                name='next_obs', shape=[self.obs_dim], dtype='float32')\n",
    "            terminal = layers.data(name='terminal', shape=[], dtype='bool')\n",
    "            _, self.critic_cost = self.alg.learn(obs, act, reward, next_obs,\n",
    "                                                 terminal)\n",
    "\n",
    "    def predict(self, obs):\n",
    "        obs = np.expand_dims(obs, axis=0)\n",
    "        act = self.fluid_executor.run(\n",
    "            self.pred_program, feed={'obs': obs},\n",
    "            fetch_list=[self.pred_act])[0]\n",
    "        return act\n",
    "\n",
    "    def learn(self, obs, act, reward, next_obs, terminal):\n",
    "        feed = {\n",
    "            'obs': obs,\n",
    "            'act': act,\n",
    "            'reward': reward,\n",
    "            'next_obs': next_obs,\n",
    "            'terminal': terminal\n",
    "        }\n",
    "        critic_cost = self.fluid_executor.run(\n",
    "            self.learn_program, feed=feed, fetch_list=[self.critic_cost])[0]\n",
    "        self.alg.sync_target()\n",
    "        return critic_cost"
   ]
  },
  {
   "cell_type": "code",
   "execution_count": 11,
   "metadata": {},
   "outputs": [
    {
     "name": "stdout",
     "output_type": "stream",
     "text": [
      "\u001b[32m[06-05 14:26:44 MainThread @machine_info.py:82]\u001b[0m nvidia-smi -L found gpu count: 8\n",
      "\u001b[32m[06-05 14:26:44 MainThread @machine_info.py:82]\u001b[0m nvidia-smi -L found gpu count: 8\n",
      "\u001b[32m[06-05 14:26:52 MainThread @machine_info.py:82]\u001b[0m nvidia-smi -L found gpu count: 8\n"
     ]
    }
   ],
   "source": [
    "agent = QuadrotorAgent(algorithm, obs_dim, act_dim)"
   ]
  },
  {
   "cell_type": "markdown",
   "metadata": {},
   "source": [
    "## Replay Memory"
   ]
  },
  {
   "cell_type": "code",
   "execution_count": 13,
   "metadata": {},
   "outputs": [],
   "source": [
    "rpm = ReplayMemory(int(hparams['memory_size']), obs_dim, act_dim)"
   ]
  },
  {
   "cell_type": "markdown",
   "metadata": {},
   "source": [
    "## Evaluation"
   ]
  },
  {
   "cell_type": "code",
   "execution_count": 14,
   "metadata": {},
   "outputs": [],
   "source": [
    "def run_evaluate_episode(env, agent):\n",
    "    obs = env.reset()\n",
    "    total_reward, steps = 0, 0\n",
    "    while True:\n",
    "        batch_obs = np.expand_dims(obs, axis=0)\n",
    "        action = agent.predict(batch_obs.astype('float32'))\n",
    "        action = np.squeeze(action)\n",
    "        action = action_mapping(action, env.action_space.low[0], \n",
    "                                env.action_space.high[0])\n",
    "\n",
    "        next_obs, reward, done, info = env.step(action)\n",
    "\n",
    "        obs = next_obs\n",
    "        total_reward += reward\n",
    "        steps += 1\n",
    "\n",
    "        if done:\n",
    "            break\n",
    "    return total_reward, steps"
   ]
  },
  {
   "cell_type": "markdown",
   "metadata": {},
   "source": [
    "## Training"
   ]
  },
  {
   "cell_type": "code",
   "execution_count": 15,
   "metadata": {},
   "outputs": [],
   "source": [
    "def run_train_episode(env, agent, rpm):\n",
    "    obs = env.reset()\n",
    "    total_reward, steps = 0, 0\n",
    "    while True:\n",
    "        steps += 1\n",
    "        batch_obs = np.expand_dims(obs, axis=0)\n",
    "        action = agent.predict(batch_obs.astype('float32'))\n",
    "        action = np.squeeze(action)\n",
    "\n",
    "        # Add exploration noise, and clip to [-1.0, 1.0]\n",
    "        action = np.clip(np.random.normal(action, 1.0), -1.0, 1.0)\n",
    "        action = action_mapping(action, env.action_space.low[0],\n",
    "                                env.action_space.high[0])\n",
    "\n",
    "        next_obs, reward, done, info = env.step(action)\n",
    "        rpm.append(obs, action, hparams['reward_scale'] * reward, next_obs, done)\n",
    "\n",
    "        if rpm.size() > hparams['rpm_init_size']:\n",
    "            batch_obs, batch_action, batch_reward, batch_next_obs, \\\n",
    "                    batch_terminal = rpm.sample_batch(hparams['batch_size'])\n",
    "            critic_cost = agent.learn(batch_obs, batch_action, batch_reward,\n",
    "                                      batch_next_obs, batch_terminal)\n",
    "\n",
    "        obs = next_obs\n",
    "        total_reward += reward\n",
    "\n",
    "        if done:\n",
    "            break\n",
    "    return total_reward, steps"
   ]
  },
  {
   "cell_type": "code",
   "execution_count": 16,
   "metadata": {},
   "outputs": [],
   "source": [
    "model_dir = 'model_dir'\n",
    "if not os.path.exists(model_dir):\n",
    "    os.makedirs(model_dir)"
   ]
  },
  {
   "cell_type": "code",
   "execution_count": null,
   "metadata": {},
   "outputs": [
    {
     "name": "stdout",
     "output_type": "stream",
     "text": [
      "\u001b[32m[06-05 14:30:56 MainThread @<ipython-input-19-fb61c282226d>:6]\u001b[0m Steps: 465 Reward: -5593.8415187394885\n",
      "\u001b[32m[06-05 14:30:59 MainThread @<ipython-input-19-fb61c282226d>:14]\u001b[0m Steps 465, Eval reward: -2667.921910168716, Episode length: 210\n",
      "\u001b[32m[06-05 14:31:01 MainThread @<ipython-input-19-fb61c282226d>:6]\u001b[0m Steps: 674 Reward: -2541.9234849159525\n",
      "\u001b[32m[06-05 14:31:03 MainThread @<ipython-input-19-fb61c282226d>:6]\u001b[0m Steps: 877 Reward: -2576.3027437993796\n",
      "\u001b[32m[06-05 14:31:07 MainThread @<ipython-input-19-fb61c282226d>:6]\u001b[0m Steps: 1229 Reward: -4461.984281137321\n",
      "\u001b[32m[06-05 14:31:09 MainThread @<ipython-input-19-fb61c282226d>:6]\u001b[0m Steps: 1444 Reward: -2560.112552749142\n",
      "\u001b[32m[06-05 14:31:12 MainThread @<ipython-input-19-fb61c282226d>:6]\u001b[0m Steps: 1747 Reward: -3784.297229037673\n"
     ]
    }
   ],
   "source": [
    "test_flag = 0\n",
    "total_steps = 0\n",
    "while total_steps < hparams['train_total_steps']:\n",
    "    train_reward, steps = run_train_episode(env, agent, rpm)\n",
    "    total_steps += steps\n",
    "    logger.info('Steps: {} Reward: {}'.format(total_steps, train_reward))\n",
    "\n",
    "    if total_steps // hparams['test_every_steps'] >= test_flag:\n",
    "        while total_steps // hparams['test_every_steps'] >= test_flag:\n",
    "            test_flag += 1\n",
    " \n",
    "        evaluate_reward, steps = run_evaluate_episode(env, agent)\n",
    "        logger.info('Steps {}, Eval reward: {}, Episode length: {}'.format(\n",
    "            total_steps, evaluate_reward, steps))\n",
    "\n",
    "        ckpt = 'steps_{}.ckpt'.format(total_steps)\n",
    "        with open(os.path.join(model_dir, ckpt), 'wb') as f:\n",
    "            pickle.dump(model.get_weights(), f)"
   ]
  },
  {
   "cell_type": "code",
   "execution_count": null,
   "metadata": {},
   "outputs": [],
   "source": []
  }
 ],
 "metadata": {
  "kernelspec": {
   "display_name": "Python 3",
   "language": "python",
   "name": "python3"
  },
  "language_info": {
   "codemirror_mode": {
    "name": "ipython",
    "version": 3
   },
   "file_extension": ".py",
   "mimetype": "text/x-python",
   "name": "python",
   "nbconvert_exporter": "python",
   "pygments_lexer": "ipython3",
   "version": "3.6.10"
  }
 },
 "nbformat": 4,
 "nbformat_minor": 4
}
